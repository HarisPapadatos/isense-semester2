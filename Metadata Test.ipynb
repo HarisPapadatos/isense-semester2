{
 "cells": [
  {
   "cell_type": "code",
   "execution_count": 9,
   "id": "25401eb7-4d58-4a49-bac0-61db1e78187b",
   "metadata": {},
   "outputs": [],
   "source": [
    "import rasterio as rs\n",
    "from pyproj import Proj, transform"
   ]
  },
  {
   "cell_type": "code",
   "execution_count": 5,
   "id": "c88b591f-c5ff-47ea-a504-deaeebcabf7b",
   "metadata": {},
   "outputs": [],
   "source": [
    "with rs.open('../../data/2nd Semester/images/NDVI/ndvi-marseille-2023-01.tiff') as dataset:\n",
    "    # Extract metadata\n",
    "    metadata = dataset.meta\n",
    "    bounds = dataset.bounds\n",
    "    crs = dataset.crs\n",
    "    transform = dataset.transform"
   ]
  },
  {
   "cell_type": "code",
   "execution_count": 12,
   "id": "df45c66a-6fb7-4e04-ba8d-c5cb6b6ffe53",
   "metadata": {},
   "outputs": [
    {
     "name": "stdout",
     "output_type": "stream",
     "text": [
      "Metadata: {'driver': 'GTiff', 'dtype': 'float32', 'nodata': nan, 'width': 1161, 'height': 1133, 'count': 1, 'crs': CRS.from_epsg(32631), 'transform': Affine(10.0, 0.0, 690060.0,\n",
      "       0.0, -10.0, 4802130.0)}\n",
      "Bounds: BoundingBox(left=690060.0, bottom=4790800.0, right=701670.0, top=4802130.0)\n",
      "Coordinate Reference System: EPSG:32631\n",
      "Affine Transform: <function transform at 0x000001B849F0E8E0>\n"
     ]
    }
   ],
   "source": [
    "print(\"Metadata:\", metadata)\n",
    "print(\"Bounds:\", bounds)\n",
    "print(\"Coordinate Reference System:\", crs)\n",
    "print(\"Affine Transform:\", transform)\n",
    "min_x, min_y, max_x, max_y = bounds.left, bounds.bottom, bounds.right, bounds.top"
   ]
  },
  {
   "cell_type": "code",
   "execution_count": 17,
   "id": "dccb1039-19df-4ce2-a9f5-79e33f849a7c",
   "metadata": {},
   "outputs": [
    {
     "name": "stdout",
     "output_type": "stream",
     "text": [
      "Bounding Box in Geographic Coordinates:\n",
      "Min Longitude: 5.341108012413679, Min Latitude: 43.246050807261184\n",
      "Max Longitude: 5.488143403183921, Max Latitude: 43.34496199630263\n"
     ]
    },
    {
     "name": "stderr",
     "output_type": "stream",
     "text": [
      "C:\\Users\\Stefanos\\AppData\\Local\\Programs\\Python\\Python311\\Lib\\site-packages\\pyproj\\crs\\crs.py:141: FutureWarning: '+init=<authority>:<code>' syntax is deprecated. '<authority>:<code>' is the preferred initialization method. When making the change, be mindful of axis order changes: https://pyproj4.github.io/pyproj/stable/gotchas.html#axis-order-changes-in-proj-6\n",
      "  in_crs_string = _prepare_from_proj_string(in_crs_string)\n",
      "C:\\Users\\Stefanos\\AppData\\Local\\Temp\\ipykernel_10792\\1007468579.py:6: FutureWarning: This function is deprecated. See: https://pyproj4.github.io/pyproj/stable/gotchas.html#upgrading-to-pyproj-2-from-pyproj-1\n",
      "  min_lon, min_lat = transform(source_crs, target_crs, min_x, min_y)\n",
      "C:\\Users\\Stefanos\\AppData\\Local\\Temp\\ipykernel_10792\\1007468579.py:7: FutureWarning: This function is deprecated. See: https://pyproj4.github.io/pyproj/stable/gotchas.html#upgrading-to-pyproj-2-from-pyproj-1\n",
      "  max_lon, max_lat = transform(source_crs, target_crs, max_x, max_y)\n"
     ]
    }
   ],
   "source": [
    "source_crs = Proj(crs)\n",
    "\n",
    "target_crs = Proj(init='epsg:4326')\n",
    "\n",
    "# Transform the coordinates\n",
    "min_lon, min_lat = transform(source_crs, target_crs, min_x, min_y)\n",
    "max_lon, max_lat = transform(source_crs, target_crs, max_x, max_y)\n",
    "\n",
    "print(\"Bounding Box in Geographic Coordinates:\")\n",
    "print(f\"Min Longitude: {min_lon}, Min Latitude: {min_lat}\")\n",
    "print(f\"Max Longitude: {max_lon}, Max Latitude: {max_lat}\")"
   ]
  },
  {
   "cell_type": "code",
   "execution_count": null,
   "id": "0ef325c0-b95c-49a9-8c2b-46365e8200ef",
   "metadata": {},
   "outputs": [],
   "source": []
  }
 ],
 "metadata": {
  "kernelspec": {
   "display_name": "Python 3 (ipykernel)",
   "language": "python",
   "name": "python3"
  },
  "language_info": {
   "codemirror_mode": {
    "name": "ipython",
    "version": 3
   },
   "file_extension": ".py",
   "mimetype": "text/x-python",
   "name": "python",
   "nbconvert_exporter": "python",
   "pygments_lexer": "ipython3",
   "version": "3.11.5"
  }
 },
 "nbformat": 4,
 "nbformat_minor": 5
}
